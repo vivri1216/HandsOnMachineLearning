{
 "cells": [
  {
   "cell_type": "markdown",
   "id": "a744ca1f",
   "metadata": {},
   "source": [
    "## Examples"
   ]
  },
  {
   "cell_type": "markdown",
   "id": "e0962572",
   "metadata": {},
   "source": [
    "Why is clustering useful?\n",
    "- for data analysis - when you analyze a new dataset it can be usfelu running a clustering algorithm and then analysing each cluster separately\n",
    "- dimensionality reduction - when you have k clusters you can replace an instance x with the vector of its cluster affinities. This will wiled a lower k-dimensional vector\n",
    "- Segmenting an image - if we cluster the data according to their color and then replace each instance color with the respective mean cluster color, it is possible to reduce the overall number of colors in an image, making it easier to analyze. Note that this is just another dimensionality reduction task.  "
   ]
  },
  {
   "cell_type": "markdown",
   "id": "440044d9",
   "metadata": {},
   "source": [
    "#### k-means\n",
    "This one here is the easiest yet powerful clustering algorithm. It is a parametric one, since it assumes the clusters in the data to have a spherical shape. \n",
    "\n",
    "**Note** Scaling feature beforehand generally improves the algorithm performance."
   ]
  },
  {
   "cell_type": "code",
   "execution_count": null,
   "id": "824aa44e",
   "metadata": {},
   "outputs": [],
   "source": [
    "from sklearn.cluster import KMeans\n",
    "from sklearn.datasets import make_blobs\n",
    "\n",
    "x,y = make_blobs(n_samples=500, random_state=42, centers=5)\n",
    "\n",
    "k = 5 # the algorithm will detect five clusters\n",
    "kmeans = KMeans(n_clusters=k)\n",
    "y_pred = kmeans.fit_predict(X=x)"
   ]
  },
  {
   "cell_type": "code",
   "execution_count": null,
   "id": "00e9e201",
   "metadata": {},
   "outputs": [],
   "source": [
    "# data visualization\n",
    "from matplotlib.pyplot import scatter\n",
    "scatter(x[:,0], x[:,1])"
   ]
  },
  {
   "cell_type": "code",
   "execution_count": null,
   "id": "bdf3c6fc",
   "metadata": {},
   "outputs": [],
   "source": [
    "# predictions\n",
    "kmeans.labels_"
   ]
  },
  {
   "cell_type": "code",
   "execution_count": null,
   "id": "3149ad51",
   "metadata": {},
   "outputs": [],
   "source": []
  },
  {
   "cell_type": "code",
   "execution_count": null,
   "id": "b7f57dbc",
   "metadata": {},
   "outputs": [],
   "source": [
    "# overall result\n",
    "import matplotlib.pyplot as plt\n",
    "def plotting_clusters(alg, x):\n",
    "    # data \n",
    "    plt.plot(x[:,0], x[:,1], \"y^\", label = \"data\")\n",
    "    # centroid coordinates\n",
    "    centers = alg.cluster_centers_\n",
    "    i = 0\n",
    "    for c in centers:\n",
    "        plt.plot(c[0], c[1], \"bs\", label = f\"centroid {i}\")\n",
    "        i += 1\n",
    "    plt.legend(loc=\"lower right\", fontsize=8)\n",
    "plotting_clusters(kmeans, x)\n",
    "# plt.savefig(\"k means cluster\")"
   ]
  },
  {
   "cell_type": "code",
   "execution_count": null,
   "id": "ad398c83",
   "metadata": {},
   "outputs": [],
   "source": [
    "# prediction making\n",
    "X_new, y_new = make_blobs(20, random_state=42, centers= 5)\n",
    "kmeans.predict(X_new)\n",
    "plotting_clusters(kmeans, X_new)"
   ]
  },
  {
   "cell_type": "markdown",
   "id": "35384cf6",
   "metadata": {},
   "source": [
    "In general k-means is an algorithm used to perform hard-clustering, meaning that each instace is assignes only to one cluster per time. In some cases it might be useful to be a little more conservative, performing soft-sclutering. In this case the algorithm will output a score (often a probability) for each point to belong to a cluster. In k-means it is reasonable thinking that such a score coud be the distance of each point to the centroids."
   ]
  },
  {
   "cell_type": "code",
   "execution_count": null,
   "id": "be4197af",
   "metadata": {},
   "outputs": [],
   "source": [
    "kmeans.transform(X_new)"
   ]
  },
  {
   "cell_type": "markdown",
   "id": "3839bed4",
   "metadata": {},
   "source": [
    "In general k-means algorithm places the centrois in a random way choosing k instances among the data at random. If you already have a sense about where the centroids should be placed at the beginning, you can tell their coordinates. \n",
    "\n",
    "In order to avoid doing this, in sklearn the centroid placing method used is the K-means++ by default. The goal is finding an efficient way of spreading the centroids the most. Here's how it works:\n",
    "1. select the first centroid at random within the training instances\n",
    "2. assign to each pint in the dataset a probility measure proportional to the distance squared from the closest centroid\n",
    "3. draw a new centroid accoringly to the probabilities assigned to the data"
   ]
  },
  {
   "cell_type": "code",
   "execution_count": null,
   "id": "2c363365",
   "metadata": {},
   "outputs": [],
   "source": [
    "# setting manually the centroids\n",
    "start = ([[-3,3], [-3,2], [-3,1], [-1,2], [0,2]])\n",
    "kmeans_new = KMeans(n_clusters=5, init=start)"
   ]
  },
  {
   "cell_type": "markdown",
   "id": "5378d327",
   "metadata": {},
   "source": [
    "Finally we need to address the last two important things:\n",
    "- assessing model performance - this can be done by using as performance measure the sum over all datapoints of the squared distance from the respective centroid\n",
    "- controoling the number of runs performed - kmeans strongly depedns from the initial centroids position. Since we place them casually different runs of the algorithm will yield different results. By default sklearn runs the algorithm 10 times and outputs the best clustering results, based upon the above performance measure"
   ]
  },
  {
   "cell_type": "code",
   "execution_count": null,
   "id": "467cfe72",
   "metadata": {},
   "outputs": [],
   "source": [
    "# performance measure: inertia\n",
    "kmeans.inertia_\n",
    "# score: - inertia (every score in sklearn is interpreted by the rule \"greater is better\")\n",
    "kmeans.score(x)"
   ]
  },
  {
   "cell_type": "code",
   "execution_count": null,
   "id": "3e5025e3",
   "metadata": {},
   "outputs": [],
   "source": [
    "# setting the number of iterations to be performed\n",
    "kmeans_new = KMeans(n_clusters=4, n_init=6)"
   ]
  },
  {
   "cell_type": "markdown",
   "id": "5a4fe286",
   "metadata": {},
   "source": [
    "##### Finding the optimal number of clusters\n",
    "\n",
    "The number of clusters k in k-means in the only hyperparameter to set. It impacts a lot the model performance, so it pretty important getting if right. The best idea is using some performance measures, like the inertia."
   ]
  },
  {
   "cell_type": "markdown",
   "id": "94e1ec1f",
   "metadata": {},
   "source": [
    "Using inertia we could make a plot of model inertia wrt to the number of clusters. Then we look for the elbow in the plot. "
   ]
  },
  {
   "cell_type": "code",
   "execution_count": null,
   "id": "780ff9cb",
   "metadata": {},
   "outputs": [],
   "source": [
    "# dgp\n",
    "x,y = make_blobs(n_samples=500, random_state=42, centers=5)"
   ]
  },
  {
   "cell_type": "code",
   "execution_count": null,
   "id": "d6636364",
   "metadata": {},
   "outputs": [],
   "source": [
    "# model creation and training\n",
    "kmeans = KMeans(n_clusters=5, random_state= 42)\n",
    "kmeans.fit(x)"
   ]
  },
  {
   "cell_type": "code",
   "execution_count": null,
   "id": "98b18378",
   "metadata": {},
   "outputs": [],
   "source": [
    "from numpy import arange\n",
    "from matplotlib import pyplot as plt\n",
    "\n",
    "k_val = arange(1,10)\n",
    "performance = []\n",
    "\n",
    "for k in k_val: \n",
    "    k = int(k)\n",
    "    kmeans = KMeans(n_clusters=k)\n",
    "    kmeans.fit(x)\n",
    "    performance.append(kmeans.inertia_)\n",
    "\n",
    "plt.plot(k_val, performance,\"o-r\")\n",
    "plt.xlabel(\"k\")\n",
    "plt.ylabel(\"inertia\")\n",
    "# plt.savefig(\"elbow\")"
   ]
  },
  {
   "cell_type": "markdown",
   "id": "de465ba4",
   "metadata": {},
   "source": [
    "Another important performance measure for clustering is the silhoutte coefficient. "
   ]
  },
  {
   "cell_type": "code",
   "execution_count": null,
   "id": "0687e72a",
   "metadata": {},
   "outputs": [],
   "source": [
    "from sklearn.metrics import silhouette_score\n",
    "from numpy import arange\n",
    "from matplotlib import pyplot as plt\n",
    "\n",
    "k_val = arange(2,10)\n",
    "performance = []\n",
    "\n",
    "for k in k_val: \n",
    "    kmeans = KMeans(n_clusters=k)\n",
    "    kmeans.fit(x)\n",
    "    labels = kmeans.labels_\n",
    "    performance.append(silhouette_score(x, labels))\n",
    "\n",
    "plt.plot(k_val, performance,\"o-b\")\n",
    "plt.xlabel(\"k\")\n",
    "plt.ylabel(\"silhoutte score\")\n",
    "plt.savefig(\"silhoutte_score\")"
   ]
  },
  {
   "cell_type": "markdown",
   "id": "74b28b2d",
   "metadata": {},
   "source": [
    "The silhoutte coefficient give more information then the inertia score. So better be using it."
   ]
  },
  {
   "cell_type": "markdown",
   "id": "333c6c96",
   "metadata": {},
   "source": [
    "##### k-means application"
   ]
  },
  {
   "cell_type": "markdown",
   "id": "ddc13abe",
   "metadata": {},
   "source": [
    "- preprocessing the data (dimensionality reduction) \n",
    "\n",
    "We cluster the data in k different clusters, then we substitute an instance features with cluster similarity for each cluaster we have found. This wai we'll reduce the training instances to be k-dimensional."
   ]
  },
  {
   "cell_type": "code",
   "execution_count": null,
   "id": "17490986",
   "metadata": {},
   "outputs": [],
   "source": [
    "from sklearn.linear_model import LogisticRegression\n",
    "from sklearn.pipeline import Pipeline\n",
    "from sklearn.datasets import load_digits # 8x8 pixel instances, 64 features\n",
    "from sklearn.model_selection import train_test_split\n",
    "from sklearn.cluster import KMeans\n",
    "from sklearn.preprocessing import StandardScaler"
   ]
  },
  {
   "cell_type": "code",
   "execution_count": null,
   "id": "0850ec7e",
   "metadata": {},
   "outputs": [],
   "source": [
    "X, y = load_digits(return_X_y=True)"
   ]
  },
  {
   "cell_type": "code",
   "execution_count": null,
   "id": "01f3b798",
   "metadata": {},
   "outputs": [],
   "source": [
    "X_train, X_test, y_train, y_test = train_test_split(X, y)"
   ]
  },
  {
   "cell_type": "code",
   "execution_count": null,
   "id": "902fe825",
   "metadata": {},
   "outputs": [],
   "source": [
    "# before using clustering for preprocessing the data\n",
    "log_reg = LogisticRegression()\n",
    "log_reg.fit(X_train, y_train)\n",
    "log_reg.score(X_test, y_test)"
   ]
  },
  {
   "cell_type": "code",
   "execution_count": null,
   "id": "003d5fba",
   "metadata": {},
   "outputs": [],
   "source": [
    "# using clustering for preprocessing the data\n",
    "model = Pipeline([\n",
    "    (\"scaler\", StandardScaler()),\n",
    "    (\"kmeans\", KMeans(n_clusters=50)), # instances now have 50 features, one for each culster similarity score \n",
    "    (\"log_reg\", LogisticRegression(max_iter=3000))\n",
    "])\n",
    "\n",
    "model.fit(X_train, y_train)\n",
    "model.score(X_test, y_test)"
   ]
  },
  {
   "cell_type": "markdown",
   "id": "91dbc59f",
   "metadata": {},
   "source": [
    "Another important feature of using clustering for data preprocesing is that the number of clusters k is just another hyperparameter of the overall model. So we can find the best value for it by GridSearch"
   ]
  },
  {
   "cell_type": "code",
   "execution_count": null,
   "id": "aa4a9708",
   "metadata": {},
   "outputs": [],
   "source": [
    "from sklearn.model_selection import GridSearchCV\n",
    "\n",
    "param_grid = dict(kmeans__n_clusters=range(2,100))\n",
    "grid_clf = GridSearchCV(model, param_grid=param_grid, cv =3)\n",
    "grid_clf.fit(X_train, y_train)\n",
    "grid_clf.best_params_"
   ]
  },
  {
   "cell_type": "markdown",
   "id": "523d556f",
   "metadata": {},
   "source": [
    "#### DBSCAN and HBDSCAN\n",
    "\n",
    "This clustering algorithm can be seen as the non-parametric counterpart of k-means. It doesn't make any assumptions beforehand about the clusters form. Yet it is more difficult to tune, the value of $\\epsilon$ is very nasty to get right"
   ]
  },
  {
   "cell_type": "code",
   "execution_count": 194,
   "id": "aaab89a6",
   "metadata": {},
   "outputs": [
    {
     "data": {
      "text/plain": [
       "<matplotlib.collections.PathCollection at 0x267d20c3110>"
      ]
     },
     "execution_count": 194,
     "metadata": {},
     "output_type": "execute_result"
    },
    {
     "data": {
      "image/png": "[encoded data removed]",
      "text/plain": [
       "<Figure size 640x480 with 1 Axes>"
      ]
     },
     "metadata": {},
     "output_type": "display_data"
    }
   ],
   "source": [
    "from sklearn.datasets import make_moons\n",
    "from matplotlib.pyplot import scatter\n",
    "\n",
    "X, y = make_moons(n_samples=1000, noise = 0.05)\n",
    "scatter(X[:,0], X[:,1])"
   ]
  },
  {
   "cell_type": "code",
   "execution_count": null,
   "id": "844c26df",
   "metadata": {},
   "outputs": [
    {
     "data": {
      "text/plain": [
       "array([ 0,  1,  2,  4,  0,  0,  3,  3,  3,  0,  0,  3,  3,  3,  0,  0,  3,\n",
       "        4,  2,  4,  0,  2,  3,  5,  0,  0,  6,  6,  3,  3,  4, -1,  2,  0,\n",
       "        3, -1,  0,  4,  0,  5,  3,  3,  0,  3,  6,  2,  5,  7,  6,  0,  1,\n",
       "        3,  7,  1,  3,  3,  0,  6,  2,  3,  0,  3,  5,  3,  7,  1,  3, -1,\n",
       "        3,  2,  0,  3,  2, -1,  0,  6,  3,  0,  2,  5,  0,  3,  6,  0,  3,\n",
       "        0,  3,  0,  3,  0,  3, -1,  6,  4,  3,  4,  2,  0,  3, -1, -1,  3,\n",
       "        2,  1,  0,  0,  0,  3,  6, -1,  3,  3,  7,  3,  6,  3,  3,  6,  3,\n",
       "       -1,  0, -1,  3,  2,  6,  3, -1,  0,  0,  3,  7,  0,  1,  3, -1,  3,\n",
       "        2,  2,  3,  6,  0,  3,  3,  3,  2,  5,  3,  0,  2,  4,  6,  2,  3,\n",
       "        3,  6,  3,  0,  2,  2,  0,  0,  3, -1,  3,  6,  2, -1,  0, -1,  6,\n",
       "        3,  5,  0,  3,  3,  6,  7, -1,  6,  6,  3,  0,  0,  0,  3,  3,  0,\n",
       "        0,  0,  3,  6,  4,  2, -1,  3,  3,  3,  0,  3,  6, -1,  7,  3,  5,\n",
       "        2,  6,  2,  3,  6,  1,  1,  5,  4,  3,  3,  0,  4,  3, -1,  3,  1,\n",
       "        0,  0,  4,  3,  3,  3,  0,  2,  5,  3,  3, -1,  7,  0,  6,  3,  7,\n",
       "        2,  2,  0,  6,  0,  7,  3,  7,  0, -1,  2, -1,  0,  5,  1,  6,  3,\n",
       "        0,  6,  3,  2,  6,  2,  1,  1,  3,  7,  0,  0,  0,  0, -1,  0,  0,\n",
       "        3,  0,  7,  4,  0,  0,  2,  5,  3,  3, -1,  3,  0,  5,  6,  0,  0,\n",
       "       -1,  3,  2,  7,  1,  3,  2,  6,  3,  2,  4,  0,  3,  2,  0,  6,  3,\n",
       "        3,  6,  0, -1,  6, -1,  3,  3,  6,  3,  0,  5,  2,  0,  3,  3,  1,\n",
       "        0,  0,  0,  1,  0,  6,  3,  3,  3,  3,  4,  0,  5,  3,  0,  5,  3,\n",
       "        3,  3,  0,  0,  4,  3,  3,  2,  0,  3,  4,  5,  0, -1,  6,  5,  0,\n",
       "        0, -1,  2,  3, -1,  3,  6,  2,  3,  0,  1,  0,  2,  0,  2,  1,  6,\n",
       "        0,  0,  7,  0,  3,  4,  6,  3,  3,  0,  3,  2,  3,  3,  4,  3,  3,\n",
       "       -1,  1,  6,  3,  6,  0,  3,  3,  6,  3,  3,  3,  0,  4,  0,  3,  2,\n",
       "        3,  3,  0,  3,  3,  2,  0,  7,  3,  3,  6,  3,  6,  6,  2,  2,  0,\n",
       "        3,  1,  6,  0,  0,  3,  2,  0,  3,  3,  0, -1,  6,  5,  0, -1,  0,\n",
       "        5,  0,  0,  3,  3,  0,  3,  0,  6,  3,  0,  3,  3,  6,  7,  0,  3,\n",
       "        1,  0,  3, -1,  6,  1, -1,  2,  3,  0,  7,  0,  0,  1,  2,  0,  3,\n",
       "        0,  3,  3,  0,  0,  3,  0,  3,  4,  0, -1,  3,  3,  3,  5,  3,  0,\n",
       "        3,  3, -1,  2,  3,  3,  0,  6,  3,  3,  3,  6,  7,  3,  0,  3,  0,\n",
       "        3,  0,  0, -1,  2,  3, -1,  6,  4,  3,  0,  6,  0,  3,  0,  0,  3,\n",
       "        0,  5,  3,  0,  6,  3,  0,  2,  0,  2,  3,  0,  3,  6,  3,  6,  0,\n",
       "        5,  2,  3,  7,  2,  3,  3,  3,  1,  3,  0,  2,  3,  0,  0,  6,  3,\n",
       "        3,  1,  4,  6,  0,  0,  1,  2,  0,  3,  7,  3,  5,  6,  3,  3,  0,\n",
       "        0,  2,  1,  4,  6,  0,  0,  0,  3,  0,  6,  2,  0,  0,  3,  3,  0,\n",
       "        6,  3, -1,  3,  0,  6,  0,  3,  0,  0,  3,  3,  3,  2,  1,  6, -1,\n",
       "       -1,  0,  0,  6,  0,  4,  1,  3,  5,  5,  2,  1,  6,  3,  2,  3,  0,\n",
       "        3,  3,  0,  3,  2,  0,  2,  5,  3,  3, -1,  5,  4,  0,  0,  3,  6,\n",
       "        0, -1,  2,  6,  4,  1,  3,  0,  4,  6,  5,  7,  6, -1,  3,  2,  3,\n",
       "        6,  3,  1,  3,  0,  4,  6,  2,  6,  0,  0,  1,  1,  6,  2,  3,  0,\n",
       "       -1,  6,  1,  3,  2, -1,  3,  0,  0, -1,  3, -1,  3,  0,  3,  0,  0,\n",
       "        6,  0,  3,  0,  5,  0,  3,  0,  6, -1,  5,  3,  3,  3,  3, -1,  3,\n",
       "        1,  0,  0,  0,  0, -1,  3,  7,  3, -1,  3,  0,  3,  6,  3,  0,  4,\n",
       "        3,  3,  0,  0,  2,  2,  0,  3,  3,  0,  6,  6,  3,  3,  0,  3,  3,\n",
       "        6, -1,  0,  3, -1,  7,  2,  3,  3, -1,  2,  3,  3,  0,  2,  0,  1,\n",
       "       -1,  0,  6,  3,  2,  2,  2,  0,  0,  4,  6,  0,  3,  2,  5,  6, -1,\n",
       "        3,  0,  6,  4,  0, -1,  0,  1,  0,  6,  3,  3,  2,  1,  3,  0,  0,\n",
       "        3,  0,  3,  3,  0,  3,  3,  0,  0,  3,  3,  2,  7,  4,  3,  0,  2,\n",
       "        3,  5,  6,  0,  3,  4,  3,  0,  7,  3,  0,  5,  3,  3,  3,  3,  2,\n",
       "        2,  6,  2,  0,  3,  0,  3,  1,  3,  3,  3,  2,  5,  4,  3,  0,  3,\n",
       "        3,  6,  3, -1,  3,  0,  3,  2,  6,  3,  0,  0,  5, -1,  6, -1,  2,\n",
       "        3,  7,  0,  3,  5,  2,  3, -1,  5,  6,  6,  3,  6,  4,  0,  2,  2,\n",
       "        0,  0,  3,  3,  3,  6,  2,  2,  3,  0,  0,  0, -1,  5,  0,  5,  3,\n",
       "        0,  3, -1,  3,  4,  5,  2,  3,  7,  6,  6,  0,  3,  3,  3,  0,  3,\n",
       "        3, -1,  3,  3,  3,  3,  1,  3,  4,  1,  0,  2,  0,  3,  3,  4,  6,\n",
       "        5,  3,  2,  3,  6, -1,  6,  3,  3,  0,  0,  4, -1,  0,  3, -1,  3,\n",
       "        3,  0,  3,  6,  3,  3,  3,  0,  0,  0, -1,  3,  3,  3,  3,  3,  0,\n",
       "        3,  2,  3,  0,  3,  3,  6,  3,  6,  2,  3,  1,  0,  0,  2,  2,  2,\n",
       "        0,  0, -1,  3,  6,  4,  0, -1,  3,  6,  0,  0,  3,  2])"
      ]
     },
     "execution_count": 189,
     "metadata": {},
     "output_type": "execute_result"
    }
   ],
   "source": [
    "from sklearn.cluster import DBSCAN\n",
    "\n",
    "dbscan = DBSCAN(eps = 0.05, min_samples=5)\n",
    "dbscan.fit(X)\n",
    "dbscan.labels_  # note that this algorithm finds 7 different clusters, not a good job\n",
    "# label = -1 when the point has been labelles as noise and thus dropped"
   ]
  },
  {
   "cell_type": "markdown",
   "id": "74d3572b",
   "metadata": {},
   "source": [
    "If we want to avoid the burden of chosing $\\epsilon$ we may try ti use the HDSCAN algorithm. That is a non-parametric, hierarchical clustering algorithm (see notes for more). It has only one hyperparameter, that is the minimum number of instances that must be found in a cluster to be one. "
   ]
  },
  {
   "cell_type": "code",
   "execution_count": null,
   "id": "7b611523",
   "metadata": {},
   "outputs": [
    {
     "data": {
      "text/plain": [
       "array([0, 0, 1, 0, 0, 0, 1, 1, 1, 0, 0, 1, 1, 1, 0, 0, 1, 0, 1, 0, 0, 1,\n",
       "       1, 1, 0, 0, 0, 0, 1, 1, 0, 1, 1, 0, 1, 1, 0, 0, 0, 1, 1, 1, 0, 1,\n",
       "       0, 1, 1, 0, 0, 0, 0, 1, 0, 0, 1, 1, 0, 0, 1, 1, 0, 1, 1, 1, 0, 0,\n",
       "       1, 1, 1, 1, 0, 1, 1, 0, 0, 0, 1, 0, 1, 1, 0, 1, 0, 0, 1, 0, 1, 0,\n",
       "       1, 0, 1, 1, 0, 0, 1, 0, 1, 0, 1, 0, 1, 1, 1, 0, 0, 0, 0, 1, 0, 1,\n",
       "       1, 1, 0, 1, 0, 1, 1, 0, 1, 0, 0, 1, 1, 1, 0, 1, 0, 0, 0, 1, 0, 0,\n",
       "       0, 1, 0, 1, 1, 1, 1, 0, 0, 1, 1, 1, 1, 1, 1, 0, 1, 0, 0, 1, 1, 1,\n",
       "       0, 1, 0, 1, 1, 0, 0, 1, 1, 1, 0, 1, 0, 0, 0, 0, 1, 1, 0, 1, 1, 0,\n",
       "       0, 0, 0, 0, 1, 0, 0, 0, 1, 1, 0, 0, 0, 1, 0, 0, 1, 1, 1, 1, 1, 0,\n",
       "       1, 0, 0, 0, 1, 1, 1, 0, 1, 1, 0, 0, 0, 1, 0, 1, 1, 0, 0, 1, 0, 1,\n",
       "       0, 0, 0, 0, 1, 1, 1, 0, 1, 1, 1, 1, 1, 0, 0, 0, 1, 0, 1, 1, 0, 0,\n",
       "       0, 0, 1, 0, 0, 0, 1, 0, 0, 1, 0, 0, 1, 0, 0, 1, 1, 0, 1, 0, 0, 1,\n",
       "       0, 0, 0, 0, 0, 0, 0, 0, 1, 0, 0, 0, 0, 0, 1, 1, 1, 1, 1, 1, 0, 1,\n",
       "       0, 0, 0, 0, 1, 1, 0, 0, 1, 1, 0, 1, 1, 0, 0, 1, 1, 0, 0, 1, 1, 0,\n",
       "       0, 0, 0, 1, 1, 1, 0, 1, 0, 1, 1, 0, 1, 1, 0, 0, 0, 0, 0, 0, 0, 1,\n",
       "       1, 1, 1, 0, 0, 1, 1, 0, 1, 1, 1, 1, 0, 0, 0, 1, 1, 1, 0, 1, 0, 1,\n",
       "       0, 0, 0, 1, 0, 0, 0, 1, 1, 1, 1, 0, 1, 1, 0, 0, 0, 1, 0, 1, 0, 0,\n",
       "       0, 0, 0, 0, 1, 0, 0, 1, 1, 0, 1, 1, 1, 1, 0, 1, 1, 0, 0, 0, 1, 0,\n",
       "       0, 1, 1, 0, 1, 1, 1, 0, 0, 0, 1, 1, 1, 1, 0, 1, 1, 1, 0, 0, 1, 1,\n",
       "       0, 1, 0, 0, 1, 1, 0, 1, 0, 0, 0, 0, 1, 1, 0, 1, 1, 0, 0, 0, 1, 0,\n",
       "       0, 0, 1, 0, 0, 1, 1, 0, 1, 0, 0, 1, 0, 1, 1, 0, 0, 0, 1, 0, 0, 1,\n",
       "       1, 0, 0, 0, 1, 1, 0, 0, 0, 0, 0, 1, 0, 1, 0, 1, 1, 0, 0, 1, 0, 1,\n",
       "       0, 0, 1, 1, 1, 1, 1, 1, 0, 1, 1, 0, 1, 1, 1, 0, 0, 1, 1, 1, 0, 0,\n",
       "       1, 0, 1, 0, 1, 0, 0, 1, 1, 1, 1, 0, 0, 1, 0, 0, 0, 1, 0, 0, 1, 0,\n",
       "       1, 1, 0, 0, 1, 0, 1, 0, 1, 1, 0, 1, 0, 1, 0, 0, 1, 1, 1, 0, 1, 1,\n",
       "       1, 1, 0, 1, 0, 1, 1, 0, 0, 0, 1, 1, 0, 0, 0, 0, 0, 0, 1, 0, 1, 0,\n",
       "       1, 1, 0, 1, 1, 0, 0, 1, 0, 0, 0, 0, 0, 0, 1, 0, 0, 1, 0, 0, 1, 1,\n",
       "       0, 0, 1, 0, 1, 0, 0, 0, 1, 0, 0, 1, 1, 1, 1, 0, 0, 1, 1, 0, 0, 0,\n",
       "       0, 0, 0, 1, 1, 1, 1, 0, 0, 1, 1, 1, 0, 1, 1, 0, 1, 1, 0, 1, 1, 1,\n",
       "       1, 0, 1, 0, 0, 0, 1, 0, 0, 1, 1, 0, 0, 0, 1, 0, 0, 0, 1, 0, 0, 1,\n",
       "       1, 1, 1, 0, 1, 0, 1, 0, 0, 0, 1, 0, 0, 0, 0, 0, 0, 1, 1, 0, 1, 0,\n",
       "       0, 1, 1, 0, 1, 0, 0, 0, 1, 1, 1, 0, 1, 0, 0, 0, 0, 1, 0, 1, 0, 1,\n",
       "       0, 0, 0, 1, 1, 1, 1, 1, 0, 1, 0, 0, 0, 0, 0, 0, 1, 0, 1, 1, 1, 0,\n",
       "       1, 0, 1, 0, 0, 1, 1, 0, 0, 1, 1, 0, 1, 1, 0, 0, 0, 1, 1, 0, 1, 1,\n",
       "       0, 1, 0, 1, 0, 0, 1, 1, 1, 0, 1, 1, 1, 0, 1, 0, 0, 1, 0, 0, 1, 1,\n",
       "       1, 1, 0, 0, 0, 0, 0, 1, 1, 1, 0, 0, 1, 0, 0, 0, 0, 1, 0, 0, 0, 0,\n",
       "       1, 1, 1, 0, 1, 0, 0, 1, 0, 1, 1, 0, 1, 1, 0, 0, 1, 1, 1, 0, 0, 1,\n",
       "       0, 1, 1, 1, 0, 0, 1, 0, 1, 0, 0, 1, 0, 1, 1, 1, 1, 1, 1, 1, 0, 1,\n",
       "       0, 1, 0, 1, 0, 1, 1, 1, 1, 1, 0, 1, 0, 1, 1, 0, 1, 0, 1, 0, 1, 1,\n",
       "       0, 1, 0, 0, 1, 1, 0, 1, 1, 1, 0, 0, 1, 1, 1, 1, 1, 1, 0, 0, 1, 0,\n",
       "       0, 0, 1, 1, 0, 0, 1, 1, 1, 0, 1, 1, 1, 0, 0, 0, 0, 1, 0, 1, 1, 0,\n",
       "       1, 1, 1, 0, 1, 1, 1, 0, 0, 0, 0, 1, 1, 1, 0, 1, 1, 1, 1, 1, 1, 1,\n",
       "       0, 1, 0, 0, 0, 1, 0, 1, 1, 0, 0, 1, 1, 1, 1, 0, 1, 0, 1, 1, 0, 0,\n",
       "       0, 1, 0, 1, 0, 1, 1, 0, 1, 0, 1, 1, 1, 0, 0, 0, 1, 1, 1, 1, 1, 1,\n",
       "       0, 1, 1, 1, 0, 1, 1, 0, 1, 0, 1, 1, 0, 0, 0, 1, 1, 1, 0, 0, 1, 1,\n",
       "       0, 0, 0, 0, 1, 0, 0, 0, 1, 1])"
      ]
     },
     "execution_count": 193,
     "metadata": {},
     "output_type": "execute_result"
    }
   ],
   "source": [
    "from sklearn.cluster import HDBSCAN\n",
    "\n",
    "hdbscan = HDBSCAN(min_cluster_size=5) # default: n_samples = 5\n",
    "hdbscan.fit(X)\n",
    "hdbscan.labels_ # 2 clusters are correctly found, labels = {0,1}"
   ]
  },
  {
   "cell_type": "markdown",
   "id": "f7a62904",
   "metadata": {},
   "source": [
    "This last algorithm is very powerfu and easy to use. A reccomandation is using it as work-horse. It is very flexible and pretti efficient, so you can alway use this one without worrying too much at a first approach with the data "
   ]
  },
  {
   "cell_type": "markdown",
   "id": "29e98c99",
   "metadata": {},
   "source": [
    "#### Gaussian Mixtures\n",
    "\n",
    "Yet another parametric clustering algorithm. The difference here is that the clustering is performed following a soft approach, meaning that we ooutput a probability of each instance to belong to a certain cluster. \n",
    "\n",
    "The parametric assumption we make is that the data were drawm from a sum of multivariate gaussian distributions. The algorithm, loogking at the data, tries finding the parameters of each one of this mvn distributions. \n",
    "\n",
    "The number of mvn to consider is the only hyperparameter of this algorithm. "
   ]
  },
  {
   "cell_type": "code",
   "execution_count": null,
   "id": "d59e0590",
   "metadata": {},
   "outputs": [],
   "source": [
    "# dgp\n",
    "from sklearn.datasets import make_moons\n",
    "from matplotlib.pyplot import scatter\n",
    "\n",
    "X, y = make_moons(n_samples=1000, noise = 0.05)"
   ]
  },
  {
   "cell_type": "code",
   "execution_count": 199,
   "id": "ccc0a721",
   "metadata": {},
   "outputs": [
    {
     "data": {
      "text/html": [
       "<style>#sk-container-id-13 {\n",
       "  /* Definition of color scheme common for light and dark mode */\n",
       "  --sklearn-color-text: #000;\n",
       "  --sklearn-color-text-muted: #666;\n",
       "  --sklearn-color-line: gray;\n",
       "  /* Definition of color scheme for unfitted estimators */\n",
       "  --sklearn-color-unfitted-level-0: #fff5e6;\n",
       "  --sklearn-color-unfitted-level-1: #f6e4d2;\n",
       "  --sklearn-color-unfitted-level-2: #ffe0b3;\n",
       "  --sklearn-color-unfitted-level-3: chocolate;\n",
       "  /* Definition of color scheme for fitted estimators */\n",
       "  --sklearn-color-fitted-level-0: #f0f8ff;\n",
       "  --sklearn-color-fitted-level-1: #d4ebff;\n",
       "  --sklearn-color-fitted-level-2: #b3dbfd;\n",
       "  --sklearn-color-fitted-level-3: cornflowerblue;\n",
       "\n",
       "  /* Specific color for light theme */\n",
       "  --sklearn-color-text-on-default-background: var(--sg-text-color, var(--theme-code-foreground, var(--jp-content-font-color1, black)));\n",
       "  --sklearn-color-background: var(--sg-background-color, var(--theme-background, var(--jp-layout-color0, white)));\n",
       "  --sklearn-color-border-box: var(--sg-text-color, var(--theme-code-foreground, var(--jp-content-font-color1, black)));\n",
       "  --sklearn-color-icon: #696969;\n",
       "\n",
       "  @media (prefers-color-scheme: dark) {\n",
       "    /* Redefinition of color scheme for dark theme */\n",
       "    --sklearn-color-text-on-default-background: var(--sg-text-color, var(--theme-code-foreground, var(--jp-content-font-color1, white)));\n",
       "    --sklearn-color-background: var(--sg-background-color, var(--theme-background, var(--jp-layout-color0, #111)));\n",
       "    --sklearn-color-border-box: var(--sg-text-color, var(--theme-code-foreground, var(--jp-content-font-color1, white)));\n",
       "    --sklearn-color-icon: #878787;\n",
       "  }\n",
       "}\n",
       "\n",
       "#sk-container-id-13 {\n",
       "  color: var(--sklearn-color-text);\n",
       "}\n",
       "\n",
       "#sk-container-id-13 pre {\n",
       "  padding: 0;\n",
       "}\n",
       "\n",
       "#sk-container-id-13 input.sk-hidden--visually {\n",
       "  border: 0;\n",
       "  clip: rect(1px 1px 1px 1px);\n",
       "  clip: rect(1px, 1px, 1px, 1px);\n",
       "  height: 1px;\n",
       "  margin: -1px;\n",
       "  overflow: hidden;\n",
       "  padding: 0;\n",
       "  position: absolute;\n",
       "  width: 1px;\n",
       "}\n",
       "\n",
       "#sk-container-id-13 div.sk-dashed-wrapped {\n",
       "  border: 1px dashed var(--sklearn-color-line);\n",
       "  margin: 0 0.4em 0.5em 0.4em;\n",
       "  box-sizing: border-box;\n",
       "  padding-bottom: 0.4em;\n",
       "  background-color: var(--sklearn-color-background);\n",
       "}\n",
       "\n",
       "#sk-container-id-13 div.sk-container {\n",
       "  /* jupyter's `normalize.less` sets `[hidden] { display: none; }`\n",
       "     but bootstrap.min.css set `[hidden] { display: none !important; }`\n",
       "     so we also need the `!important` here to be able to override the\n",
       "     default hidden behavior on the sphinx rendered scikit-learn.org.\n",
       "     See: https://github.com/scikit-learn/scikit-learn/issues/21755 */\n",
       "  display: inline-block !important;\n",
       "  position: relative;\n",
       "}\n",
       "\n",
       "#sk-container-id-13 div.sk-text-repr-fallback {\n",
       "  display: none;\n",
       "}\n",
       "\n",
       "div.sk-parallel-item,\n",
       "div.sk-serial,\n",
       "div.sk-item {\n",
       "  /* draw centered vertical line to link estimators */\n",
       "  background-image: linear-gradient(var(--sklearn-color-text-on-default-background), var(--sklearn-color-text-on-default-background));\n",
       "  background-size: 2px 100%;\n",
       "  background-repeat: no-repeat;\n",
       "  background-position: center center;\n",
       "}\n",
       "\n",
       "/* Parallel-specific style estimator block */\n",
       "\n",
       "#sk-container-id-13 div.sk-parallel-item::after {\n",
       "  content: \"\";\n",
       "  width: 100%;\n",
       "  border-bottom: 2px solid var(--sklearn-color-text-on-default-background);\n",
       "  flex-grow: 1;\n",
       "}\n",
       "\n",
       "#sk-container-id-13 div.sk-parallel {\n",
       "  display: flex;\n",
       "  align-items: stretch;\n",
       "  justify-content: center;\n",
       "  background-color: var(--sklearn-color-background);\n",
       "  position: relative;\n",
       "}\n",
       "\n",
       "#sk-container-id-13 div.sk-parallel-item {\n",
       "  display: flex;\n",
       "  flex-direction: column;\n",
       "}\n",
       "\n",
       "#sk-container-id-13 div.sk-parallel-item:first-child::after {\n",
       "  align-self: flex-end;\n",
       "  width: 50%;\n",
       "}\n",
       "\n",
       "#sk-container-id-13 div.sk-parallel-item:last-child::after {\n",
       "  align-self: flex-start;\n",
       "  width: 50%;\n",
       "}\n",
       "\n",
       "#sk-container-id-13 div.sk-parallel-item:only-child::after {\n",
       "  width: 0;\n",
       "}\n",
       "\n",
       "/* Serial-specific style estimator block */\n",
       "\n",
       "#sk-container-id-13 div.sk-serial {\n",
       "  display: flex;\n",
       "  flex-direction: column;\n",
       "  align-items: center;\n",
       "  background-color: var(--sklearn-color-background);\n",
       "  padding-right: 1em;\n",
       "  padding-left: 1em;\n",
       "}\n",
       "\n",
       "\n",
       "/* Toggleable style: style used for estimator/Pipeline/ColumnTransformer box that is\n",
       "clickable and can be expanded/collapsed.\n",
       "- Pipeline and ColumnTransformer use this feature and define the default style\n",
       "- Estimators will overwrite some part of the style using the `sk-estimator` class\n",
       "*/\n",
       "\n",
       "/* Pipeline and ColumnTransformer style (default) */\n",
       "\n",
       "#sk-container-id-13 div.sk-toggleable {\n",
       "  /* Default theme specific background. It is overwritten whether we have a\n",
       "  specific estimator or a Pipeline/ColumnTransformer */\n",
       "  background-color: var(--sklearn-color-background);\n",
       "}\n",
       "\n",
       "/* Toggleable label */\n",
       "#sk-container-id-13 label.sk-toggleable__label {\n",
       "  cursor: pointer;\n",
       "  display: flex;\n",
       "  width: 100%;\n",
       "  margin-bottom: 0;\n",
       "  padding: 0.5em;\n",
       "  box-sizing: border-box;\n",
       "  text-align: center;\n",
       "  align-items: start;\n",
       "  justify-content: space-between;\n",
       "  gap: 0.5em;\n",
       "}\n",
       "\n",
       "#sk-container-id-13 label.sk-toggleable__label .caption {\n",
       "  font-size: 0.6rem;\n",
       "  font-weight: lighter;\n",
       "  color: var(--sklearn-color-text-muted);\n",
       "}\n",
       "\n",
       "#sk-container-id-13 label.sk-toggleable__label-arrow:before {\n",
       "  /* Arrow on the left of the label */\n",
       "  content: \"▸\";\n",
       "  float: left;\n",
       "  margin-right: 0.25em;\n",
       "  color: var(--sklearn-color-icon);\n",
       "}\n",
       "\n",
       "#sk-container-id-13 label.sk-toggleable__label-arrow:hover:before {\n",
       "  color: var(--sklearn-color-text);\n",
       "}\n",
       "\n",
       "/* Toggleable content - dropdown */\n",
       "\n",
       "#sk-container-id-13 div.sk-toggleable__content {\n",
       "  max-height: 0;\n",
       "  max-width: 0;\n",
       "  overflow: hidden;\n",
       "  text-align: left;\n",
       "  /* unfitted */\n",
       "  background-color: var(--sklearn-color-unfitted-level-0);\n",
       "}\n",
       "\n",
       "#sk-container-id-13 div.sk-toggleable__content.fitted {\n",
       "  /* fitted */\n",
       "  background-color: var(--sklearn-color-fitted-level-0);\n",
       "}\n",
       "\n",
       "#sk-container-id-13 div.sk-toggleable__content pre {\n",
       "  margin: 0.2em;\n",
       "  border-radius: 0.25em;\n",
       "  color: var(--sklearn-color-text);\n",
       "  /* unfitted */\n",
       "  background-color: var(--sklearn-color-unfitted-level-0);\n",
       "}\n",
       "\n",
       "#sk-container-id-13 div.sk-toggleable__content.fitted pre {\n",
       "  /* unfitted */\n",
       "  background-color: var(--sklearn-color-fitted-level-0);\n",
       "}\n",
       "\n",
       "#sk-container-id-13 input.sk-toggleable__control:checked~div.sk-toggleable__content {\n",
       "  /* Expand drop-down */\n",
       "  max-height: 200px;\n",
       "  max-width: 100%;\n",
       "  overflow: auto;\n",
       "}\n",
       "\n",
       "#sk-container-id-13 input.sk-toggleable__control:checked~label.sk-toggleable__label-arrow:before {\n",
       "  content: \"▾\";\n",
       "}\n",
       "\n",
       "/* Pipeline/ColumnTransformer-specific style */\n",
       "\n",
       "#sk-container-id-13 div.sk-label input.sk-toggleable__control:checked~label.sk-toggleable__label {\n",
       "  color: var(--sklearn-color-text);\n",
       "  background-color: var(--sklearn-color-unfitted-level-2);\n",
       "}\n",
       "\n",
       "#sk-container-id-13 div.sk-label.fitted input.sk-toggleable__control:checked~label.sk-toggleable__label {\n",
       "  background-color: var(--sklearn-color-fitted-level-2);\n",
       "}\n",
       "\n",
       "/* Estimator-specific style */\n",
       "\n",
       "/* Colorize estimator box */\n",
       "#sk-container-id-13 div.sk-estimator input.sk-toggleable__control:checked~label.sk-toggleable__label {\n",
       "  /* unfitted */\n",
       "  background-color: var(--sklearn-color-unfitted-level-2);\n",
       "}\n",
       "\n",
       "#sk-container-id-13 div.sk-estimator.fitted input.sk-toggleable__control:checked~label.sk-toggleable__label {\n",
       "  /* fitted */\n",
       "  background-color: var(--sklearn-color-fitted-level-2);\n",
       "}\n",
       "\n",
       "#sk-container-id-13 div.sk-label label.sk-toggleable__label,\n",
       "#sk-container-id-13 div.sk-label label {\n",
       "  /* The background is the default theme color */\n",
       "  color: var(--sklearn-color-text-on-default-background);\n",
       "}\n",
       "\n",
       "/* On hover, darken the color of the background */\n",
       "#sk-container-id-13 div.sk-label:hover label.sk-toggleable__label {\n",
       "  color: var(--sklearn-color-text);\n",
       "  background-color: var(--sklearn-color-unfitted-level-2);\n",
       "}\n",
       "\n",
       "/* Label box, darken color on hover, fitted */\n",
       "#sk-container-id-13 div.sk-label.fitted:hover label.sk-toggleable__label.fitted {\n",
       "  color: var(--sklearn-color-text);\n",
       "  background-color: var(--sklearn-color-fitted-level-2);\n",
       "}\n",
       "\n",
       "/* Estimator label */\n",
       "\n",
       "#sk-container-id-13 div.sk-label label {\n",
       "  font-family: monospace;\n",
       "  font-weight: bold;\n",
       "  display: inline-block;\n",
       "  line-height: 1.2em;\n",
       "}\n",
       "\n",
       "#sk-container-id-13 div.sk-label-container {\n",
       "  text-align: center;\n",
       "}\n",
       "\n",
       "/* Estimator-specific */\n",
       "#sk-container-id-13 div.sk-estimator {\n",
       "  font-family: monospace;\n",
       "  border: 1px dotted var(--sklearn-color-border-box);\n",
       "  border-radius: 0.25em;\n",
       "  box-sizing: border-box;\n",
       "  margin-bottom: 0.5em;\n",
       "  /* unfitted */\n",
       "  background-color: var(--sklearn-color-unfitted-level-0);\n",
       "}\n",
       "\n",
       "#sk-container-id-13 div.sk-estimator.fitted {\n",
       "  /* fitted */\n",
       "  background-color: var(--sklearn-color-fitted-level-0);\n",
       "}\n",
       "\n",
       "/* on hover */\n",
       "#sk-container-id-13 div.sk-estimator:hover {\n",
       "  /* unfitted */\n",
       "  background-color: var(--sklearn-color-unfitted-level-2);\n",
       "}\n",
       "\n",
       "#sk-container-id-13 div.sk-estimator.fitted:hover {\n",
       "  /* fitted */\n",
       "  background-color: var(--sklearn-color-fitted-level-2);\n",
       "}\n",
       "\n",
       "/* Specification for estimator info (e.g. \"i\" and \"?\") */\n",
       "\n",
       "/* Common style for \"i\" and \"?\" */\n",
       "\n",
       ".sk-estimator-doc-link,\n",
       "a:link.sk-estimator-doc-link,\n",
       "a:visited.sk-estimator-doc-link {\n",
       "  float: right;\n",
       "  font-size: smaller;\n",
       "  line-height: 1em;\n",
       "  font-family: monospace;\n",
       "  background-color: var(--sklearn-color-background);\n",
       "  border-radius: 1em;\n",
       "  height: 1em;\n",
       "  width: 1em;\n",
       "  text-decoration: none !important;\n",
       "  margin-left: 0.5em;\n",
       "  text-align: center;\n",
       "  /* unfitted */\n",
       "  border: var(--sklearn-color-unfitted-level-1) 1pt solid;\n",
       "  color: var(--sklearn-color-unfitted-level-1);\n",
       "}\n",
       "\n",
       ".sk-estimator-doc-link.fitted,\n",
       "a:link.sk-estimator-doc-link.fitted,\n",
       "a:visited.sk-estimator-doc-link.fitted {\n",
       "  /* fitted */\n",
       "  border: var(--sklearn-color-fitted-level-1) 1pt solid;\n",
       "  color: var(--sklearn-color-fitted-level-1);\n",
       "}\n",
       "\n",
       "/* On hover */\n",
       "div.sk-estimator:hover .sk-estimator-doc-link:hover,\n",
       ".sk-estimator-doc-link:hover,\n",
       "div.sk-label-container:hover .sk-estimator-doc-link:hover,\n",
       ".sk-estimator-doc-link:hover {\n",
       "  /* unfitted */\n",
       "  background-color: var(--sklearn-color-unfitted-level-3);\n",
       "  color: var(--sklearn-color-background);\n",
       "  text-decoration: none;\n",
       "}\n",
       "\n",
       "div.sk-estimator.fitted:hover .sk-estimator-doc-link.fitted:hover,\n",
       ".sk-estimator-doc-link.fitted:hover,\n",
       "div.sk-label-container:hover .sk-estimator-doc-link.fitted:hover,\n",
       ".sk-estimator-doc-link.fitted:hover {\n",
       "  /* fitted */\n",
       "  background-color: var(--sklearn-color-fitted-level-3);\n",
       "  color: var(--sklearn-color-background);\n",
       "  text-decoration: none;\n",
       "}\n",
       "\n",
       "/* Span, style for the box shown on hovering the info icon */\n",
       ".sk-estimator-doc-link span {\n",
       "  display: none;\n",
       "  z-index: 9999;\n",
       "  position: relative;\n",
       "  font-weight: normal;\n",
       "  right: .2ex;\n",
       "  padding: .5ex;\n",
       "  margin: .5ex;\n",
       "  width: min-content;\n",
       "  min-width: 20ex;\n",
       "  max-width: 50ex;\n",
       "  color: var(--sklearn-color-text);\n",
       "  box-shadow: 2pt 2pt 4pt #999;\n",
       "  /* unfitted */\n",
       "  background: var(--sklearn-color-unfitted-level-0);\n",
       "  border: .5pt solid var(--sklearn-color-unfitted-level-3);\n",
       "}\n",
       "\n",
       ".sk-estimator-doc-link.fitted span {\n",
       "  /* fitted */\n",
       "  background: var(--sklearn-color-fitted-level-0);\n",
       "  border: var(--sklearn-color-fitted-level-3);\n",
       "}\n",
       "\n",
       ".sk-estimator-doc-link:hover span {\n",
       "  display: block;\n",
       "}\n",
       "\n",
       "/* \"?\"-specific style due to the `<a>` HTML tag */\n",
       "\n",
       "#sk-container-id-13 a.estimator_doc_link {\n",
       "  float: right;\n",
       "  font-size: 1rem;\n",
       "  line-height: 1em;\n",
       "  font-family: monospace;\n",
       "  background-color: var(--sklearn-color-background);\n",
       "  border-radius: 1rem;\n",
       "  height: 1rem;\n",
       "  width: 1rem;\n",
       "  text-decoration: none;\n",
       "  /* unfitted */\n",
       "  color: var(--sklearn-color-unfitted-level-1);\n",
       "  border: var(--sklearn-color-unfitted-level-1) 1pt solid;\n",
       "}\n",
       "\n",
       "#sk-container-id-13 a.estimator_doc_link.fitted {\n",
       "  /* fitted */\n",
       "  border: var(--sklearn-color-fitted-level-1) 1pt solid;\n",
       "  color: var(--sklearn-color-fitted-level-1);\n",
       "}\n",
       "\n",
       "/* On hover */\n",
       "#sk-container-id-13 a.estimator_doc_link:hover {\n",
       "  /* unfitted */\n",
       "  background-color: var(--sklearn-color-unfitted-level-3);\n",
       "  color: var(--sklearn-color-background);\n",
       "  text-decoration: none;\n",
       "}\n",
       "\n",
       "#sk-container-id-13 a.estimator_doc_link.fitted:hover {\n",
       "  /* fitted */\n",
       "  background-color: var(--sklearn-color-fitted-level-3);\n",
       "}\n",
       "</style><div id=\"sk-container-id-13\" class=\"sk-top-container\"><div class=\"sk-text-repr-fallback\"><pre>GaussianMixture(n_components=2, n_init=10)</pre><b>In a Jupyter environment, please rerun this cell to show the HTML representation or trust the notebook. <br />On GitHub, the HTML representation is unable to render, please try loading this page with nbviewer.org.</b></div><div class=\"sk-container\" hidden><div class=\"sk-item\"><div class=\"sk-estimator fitted sk-toggleable\"><input class=\"sk-toggleable__control sk-hidden--visually\" id=\"sk-estimator-id-15\" type=\"checkbox\" checked><label for=\"sk-estimator-id-15\" class=\"sk-toggleable__label fitted sk-toggleable__label-arrow\"><div><div>GaussianMixture</div></div><div><a class=\"sk-estimator-doc-link fitted\" rel=\"noreferrer\" target=\"_blank\" href=\"https://scikit-learn.org/1.6/modules/generated/sklearn.mixture.GaussianMixture.html\">?<span>Documentation for GaussianMixture</span></a><span class=\"sk-estimator-doc-link fitted\">i<span>Fitted</span></span></div></label><div class=\"sk-toggleable__content fitted\"><pre>GaussianMixture(n_components=2, n_init=10)</pre></div> </div></div></div></div>"
      ],
      "text/plain": [
       "GaussianMixture(n_components=2, n_init=10)"
      ]
     },
     "execution_count": 199,
     "metadata": {},
     "output_type": "execute_result"
    }
   ],
   "source": [
    "from sklearn.mixture import GaussianMixture\n",
    "\n",
    "gm = GaussianMixture(n_components=2, n_init = 10)\n",
    "gm.fit(X)"
   ]
  },
  {
   "cell_type": "code",
   "execution_count": 200,
   "id": "e7f8215a",
   "metadata": {},
   "outputs": [
    {
     "name": "stdout",
     "output_type": "stream",
     "text": [
      "weights: [0.50713041 0.49286959],means: [[-0.12379403  0.62798637]\n",
      " [ 1.14235177 -0.14095966]],covarancies: [[[0.3527293  0.04938811]\n",
      "  [0.04938811 0.09976111]]\n",
      "\n",
      " [[0.34458603 0.0547688 ]\n",
      "  [0.0547688  0.09600087]]]\n"
     ]
    }
   ],
   "source": [
    "# parameters estimated\n",
    "print(f\"weights: {gm.weights_},means: {gm.means_},covarancies: {gm.covariances_}\")"
   ]
  },
  {
   "cell_type": "markdown",
   "id": "ea5f2b19",
   "metadata": {},
   "source": [
    "The parameter weights is an estimate of how important every mvn estimated is, meaning how many samples were most likely drawn from it: the higher, the more sampes were drawm from that distrbution (likely)"
   ]
  },
  {
   "cell_type": "code",
   "execution_count": 202,
   "id": "40106be1",
   "metadata": {},
   "outputs": [
    {
     "data": {
      "text/plain": [
       "True"
      ]
     },
     "execution_count": 202,
     "metadata": {},
     "output_type": "execute_result"
    }
   ],
   "source": [
    "# checking convergence \n",
    "gm.converged_"
   ]
  },
  {
   "cell_type": "code",
   "execution_count": 201,
   "id": "e363c9d7",
   "metadata": {},
   "outputs": [
    {
     "data": {
      "text/plain": [
       "5"
      ]
     },
     "execution_count": 201,
     "metadata": {},
     "output_type": "execute_result"
    }
   ],
   "source": [
    "# checking number of iterations needed for converging\n",
    "gm.n_iter_"
   ]
  },
  {
   "cell_type": "code",
   "execution_count": 206,
   "id": "d767392f",
   "metadata": {},
   "outputs": [
    {
     "data": {
      "text/plain": [
       "np.float64(-1.507547442039413)"
      ]
     },
     "execution_count": 206,
     "metadata": {},
     "output_type": "execute_result"
    }
   ],
   "source": [
    "# predictions: instances are assigned to the most likely cluster, highest probability computed\n",
    "gm.predict(X)\n",
    "# soft predictions: probs for every instance of being drawn from one of the mvn\n",
    "gm.predict_proba(X) \n",
    "# local probability density estimation \n",
    "# for each point given, this method uses the computed mvn distribution to output the approximate log pdf \n",
    "# value in that point\n",
    "gm.score_samples(X)[0]"
   ]
  },
  {
   "cell_type": "markdown",
   "id": "43b34b0f",
   "metadata": {},
   "source": [
    "We can also limit the number of shapes the clusters we find. This will help the algorithm, decreasing the total number of parameters it needs to find in order to converge.\n",
    "\n",
    "The possible shapes you can set is:\n",
    "- \"spherical\": for spherical clusters\n",
    "- \"diag\": for ellipsoid clusters\n",
    "- \"tied\": for ellipsoid cluster of the same size\n",
    "\n",
    "By default the algorithm will look for clusters of any shape and size."
   ]
  },
  {
   "cell_type": "code",
   "execution_count": null,
   "id": "d8a7897b",
   "metadata": {},
   "outputs": [],
   "source": [
    "gm = GaussianMixture(n_components=2, covariance_type=\"spherical\")"
   ]
  },
  {
   "cell_type": "markdown",
   "id": "c19bcdee",
   "metadata": {},
   "source": [
    "For assessing the performance of a gm model we can use penalized theoretical information criterion:\n",
    "- BIC (favoring less complex models)\n",
    "- AIC\n",
    "\n",
    "The higher they are, the worse the model is. "
   ]
  },
  {
   "cell_type": "code",
   "execution_count": null,
   "id": "31c571ae",
   "metadata": {},
   "outputs": [],
   "source": [
    "gm.bic(X)\n",
    "gm.aic(X)"
   ]
  },
  {
   "cell_type": "markdown",
   "id": "e3f86f7f",
   "metadata": {},
   "source": [
    "Thus, they can be used for finding the best overall GMM, looking at what combination of hyperparameters yields the lowest value."
   ]
  },
  {
   "cell_type": "markdown",
   "id": "7a47df90",
   "metadata": {},
   "source": [
    "## Exercises"
   ]
  }
 ],
 "metadata": {
  "kernelspec": {
   "display_name": ".venv",
   "language": "python",
   "name": "python3"
  },
  "language_info": {
   "codemirror_mode": {
    "name": "ipython",
    "version": 3
   },
   "file_extension": ".py",
   "mimetype": "text/x-python",
   "name": "python",
   "nbconvert_exporter": "python",
   "pygments_lexer": "ipython3",
   "version": "3.13.2"
  }
 },
 "nbformat": 4,
 "nbformat_minor": 5
}
